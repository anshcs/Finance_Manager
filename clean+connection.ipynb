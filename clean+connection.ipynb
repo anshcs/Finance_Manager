{
 "cells": [
  {
   "cell_type": "code",
   "execution_count": 2,
   "metadata": {},
   "outputs": [
    {
     "name": "stderr",
     "output_type": "stream",
     "text": [
      "c:\\Users\\shash\\anaconda3\\lib\\site-packages\\pandas\\core\\computation\\expressions.py:20: UserWarning: Pandas requires version '2.7.3' or newer of 'numexpr' (version '2.7.1' currently installed).\n",
      "  from pandas.core.computation.check import NUMEXPR_INSTALLED\n"
     ]
    }
   ],
   "source": [
    "import pandas as pd \n",
    "import numpy as np \n"
   ]
  },
  {
   "cell_type": "code",
   "execution_count": 3,
   "metadata": {},
   "outputs": [],
   "source": [
    "mont_dict = {1:'January',2:'February',3:'march',4:'April',5:'May',6:'June',7:'July',8:'August',9:'September',10:'October',11:'November ',12:'December'}"
   ]
  },
  {
   "cell_type": "code",
   "execution_count": 4,
   "metadata": {},
   "outputs": [],
   "source": [
    "df = pd.read_csv('test.csv')"
   ]
  },
  {
   "cell_type": "code",
   "execution_count": 5,
   "metadata": {},
   "outputs": [],
   "source": [
    "df.insert(7,'Month',True)"
   ]
  },
  {
   "cell_type": "code",
   "execution_count": 6,
   "metadata": {},
   "outputs": [
    {
     "data": {
      "text/plain": [
       "datetime.date(2022, 1, 1)"
      ]
     },
     "execution_count": 6,
     "metadata": {},
     "output_type": "execute_result"
    }
   ],
   "source": [
    "from datetime import datetime\n",
    "date_object = datetime.strptime(df['Tran Date'][0], '%d-%m-%Y').date()\n",
    "date_object"
   ]
  },
  {
   "cell_type": "code",
   "execution_count": 7,
   "metadata": {},
   "outputs": [
    {
     "name": "stderr",
     "output_type": "stream",
     "text": [
      "<ipython-input-7-ee67fab349f6>:4: SettingWithCopyWarning: \n",
      "A value is trying to be set on a copy of a slice from a DataFrame\n",
      "\n",
      "See the caveats in the documentation: https://pandas.pydata.org/pandas-docs/stable/user_guide/indexing.html#returning-a-view-versus-a-copy\n",
      "  df['Month'][i] = mont_dict.get(date.month)\n"
     ]
    },
    {
     "data": {
      "text/html": [
       "<div>\n",
       "<style scoped>\n",
       "    .dataframe tbody tr th:only-of-type {\n",
       "        vertical-align: middle;\n",
       "    }\n",
       "\n",
       "    .dataframe tbody tr th {\n",
       "        vertical-align: top;\n",
       "    }\n",
       "\n",
       "    .dataframe thead th {\n",
       "        text-align: right;\n",
       "    }\n",
       "</style>\n",
       "<table border=\"1\" class=\"dataframe\">\n",
       "  <thead>\n",
       "    <tr style=\"text-align: right;\">\n",
       "      <th></th>\n",
       "      <th>Tran Date</th>\n",
       "      <th>CHQNO</th>\n",
       "      <th>PARTICULARS</th>\n",
       "      <th>DR</th>\n",
       "      <th>CR</th>\n",
       "      <th>BAL</th>\n",
       "      <th>SOL</th>\n",
       "      <th>Month</th>\n",
       "    </tr>\n",
       "  </thead>\n",
       "  <tbody>\n",
       "    <tr>\n",
       "      <th>0</th>\n",
       "      <td>01-01-2022</td>\n",
       "      <td>-</td>\n",
       "      <td>UPI/P2M/200164735075/GREEN TRE/Paytm Pay/UPI</td>\n",
       "      <td>676.00</td>\n",
       "      <td></td>\n",
       "      <td>82069.24</td>\n",
       "      <td>1185</td>\n",
       "      <td>January</td>\n",
       "    </tr>\n",
       "    <tr>\n",
       "      <th>1</th>\n",
       "      <td>01-01-2022</td>\n",
       "      <td>-</td>\n",
       "      <td>UPI/P2M/200166278845/BharatPe /YesBank_Y/Pay To</td>\n",
       "      <td>503.00</td>\n",
       "      <td></td>\n",
       "      <td>81566.24</td>\n",
       "      <td>1185</td>\n",
       "      <td>January</td>\n",
       "    </tr>\n",
       "    <tr>\n",
       "      <th>2</th>\n",
       "      <td>01-01-2022</td>\n",
       "      <td>-</td>\n",
       "      <td>UPI/P2A/200176004739/PALLAVI R/ICICI Ban/UPI</td>\n",
       "      <td></td>\n",
       "      <td>250.00</td>\n",
       "      <td>81816.24</td>\n",
       "      <td>1185</td>\n",
       "      <td>January</td>\n",
       "    </tr>\n",
       "    <tr>\n",
       "      <th>3</th>\n",
       "      <td>01-01-2022</td>\n",
       "      <td>-</td>\n",
       "      <td>UPI/P2A/200166305147/GOOGLEPAY/Axis Bank/UPI</td>\n",
       "      <td></td>\n",
       "      <td>6.00</td>\n",
       "      <td>81822.24</td>\n",
       "      <td>1185</td>\n",
       "      <td>January</td>\n",
       "    </tr>\n",
       "    <tr>\n",
       "      <th>4</th>\n",
       "      <td>02-01-2022</td>\n",
       "      <td>-</td>\n",
       "      <td>INB/IFT/ANUPAMA SHIVASHANKAR/TPARTY TRANSFER</td>\n",
       "      <td></td>\n",
       "      <td>15000.00</td>\n",
       "      <td>96822.24</td>\n",
       "      <td>3567</td>\n",
       "      <td>January</td>\n",
       "    </tr>\n",
       "    <tr>\n",
       "      <th>...</th>\n",
       "      <td>...</td>\n",
       "      <td>...</td>\n",
       "      <td>...</td>\n",
       "      <td>...</td>\n",
       "      <td>...</td>\n",
       "      <td>...</td>\n",
       "      <td>...</td>\n",
       "      <td>...</td>\n",
       "    </tr>\n",
       "    <tr>\n",
       "      <th>1459</th>\n",
       "      <td>23-12-2022</td>\n",
       "      <td>-</td>\n",
       "      <td>UPI/P2M/235767601491/Mr VIJAYA/Yes Bank /UPI</td>\n",
       "      <td>2385.00</td>\n",
       "      <td></td>\n",
       "      <td>78643.39</td>\n",
       "      <td>1185</td>\n",
       "      <td>December</td>\n",
       "    </tr>\n",
       "    <tr>\n",
       "      <th>1460</th>\n",
       "      <td>23-12-2022</td>\n",
       "      <td>-</td>\n",
       "      <td>ECOM PUR/SWIGGY/9113112212/231222/16:15</td>\n",
       "      <td>143.00</td>\n",
       "      <td></td>\n",
       "      <td>78500.39</td>\n",
       "      <td>1185</td>\n",
       "      <td>December</td>\n",
       "    </tr>\n",
       "    <tr>\n",
       "      <th>1461</th>\n",
       "      <td>23-12-2022</td>\n",
       "      <td>-</td>\n",
       "      <td>ECOM PUR/SWIGGY/9113112212/231222/16:47</td>\n",
       "      <td>158.00</td>\n",
       "      <td></td>\n",
       "      <td>78342.39</td>\n",
       "      <td>1185</td>\n",
       "      <td>December</td>\n",
       "    </tr>\n",
       "    <tr>\n",
       "      <th>1462</th>\n",
       "      <td>24-12-2022</td>\n",
       "      <td>-</td>\n",
       "      <td>UPI/P2A/235831315816/SANKALP N/HDFC BANK/UPI</td>\n",
       "      <td></td>\n",
       "      <td>886.00</td>\n",
       "      <td>79228.39</td>\n",
       "      <td>1185</td>\n",
       "      <td>December</td>\n",
       "    </tr>\n",
       "    <tr>\n",
       "      <th>1463</th>\n",
       "      <td>24-12-2022</td>\n",
       "      <td>-</td>\n",
       "      <td>UPI/P2M/235876624461/Hotel shi/Paytm Pay/UPI</td>\n",
       "      <td>85.00</td>\n",
       "      <td></td>\n",
       "      <td>79143.39</td>\n",
       "      <td>1185</td>\n",
       "      <td>December</td>\n",
       "    </tr>\n",
       "  </tbody>\n",
       "</table>\n",
       "<p>1464 rows × 8 columns</p>\n",
       "</div>"
      ],
      "text/plain": [
       "       Tran Date CHQNO                                      PARTICULARS  \\\n",
       "0     01-01-2022     -     UPI/P2M/200164735075/GREEN TRE/Paytm Pay/UPI   \n",
       "1     01-01-2022     -  UPI/P2M/200166278845/BharatPe /YesBank_Y/Pay To   \n",
       "2     01-01-2022     -     UPI/P2A/200176004739/PALLAVI R/ICICI Ban/UPI   \n",
       "3     01-01-2022     -     UPI/P2A/200166305147/GOOGLEPAY/Axis Bank/UPI   \n",
       "4     02-01-2022     -     INB/IFT/ANUPAMA SHIVASHANKAR/TPARTY TRANSFER   \n",
       "...          ...   ...                                              ...   \n",
       "1459  23-12-2022     -     UPI/P2M/235767601491/Mr VIJAYA/Yes Bank /UPI   \n",
       "1460  23-12-2022     -          ECOM PUR/SWIGGY/9113112212/231222/16:15   \n",
       "1461  23-12-2022     -          ECOM PUR/SWIGGY/9113112212/231222/16:47   \n",
       "1462  24-12-2022     -     UPI/P2A/235831315816/SANKALP N/HDFC BANK/UPI   \n",
       "1463  24-12-2022     -     UPI/P2M/235876624461/Hotel shi/Paytm Pay/UPI   \n",
       "\n",
       "                         DR                     CR       BAL   SOL     Month  \n",
       "0                    676.00                         82069.24  1185   January  \n",
       "1                    503.00                         81566.24  1185   January  \n",
       "2                                           250.00  81816.24  1185   January  \n",
       "3                                             6.00  81822.24  1185   January  \n",
       "4                                         15000.00  96822.24  3567   January  \n",
       "...                     ...                    ...       ...   ...       ...  \n",
       "1459                2385.00                         78643.39  1185  December  \n",
       "1460                 143.00                         78500.39  1185  December  \n",
       "1461                 158.00                         78342.39  1185  December  \n",
       "1462                                        886.00  79228.39  1185  December  \n",
       "1463                  85.00                         79143.39  1185  December  \n",
       "\n",
       "[1464 rows x 8 columns]"
      ]
     },
     "execution_count": 7,
     "metadata": {},
     "output_type": "execute_result"
    }
   ],
   "source": [
    "\n",
    "for i in range(len(df['Tran Date'])):\n",
    "    date  = datetime.strptime(df['Tran Date'][i], '%d-%m-%Y').date()\n",
    "    \n",
    "    df['Month'][i] = mont_dict.get(date.month)\n",
    "\n",
    "df"
   ]
  },
  {
   "cell_type": "code",
   "execution_count": 8,
   "metadata": {},
   "outputs": [
    {
     "data": {
      "text/plain": [
       "1464"
      ]
     },
     "execution_count": 8,
     "metadata": {},
     "output_type": "execute_result"
    }
   ],
   "source": [
    "len(df)"
   ]
  },
  {
   "cell_type": "code",
   "execution_count": 9,
   "metadata": {},
   "outputs": [
    {
     "data": {
      "text/plain": [
       "str"
      ]
     },
     "execution_count": 9,
     "metadata": {},
     "output_type": "execute_result"
    }
   ],
   "source": [
    "type(df['Tran Date'][0])"
   ]
  },
  {
   "cell_type": "code",
   "execution_count": 10,
   "metadata": {},
   "outputs": [],
   "source": [
    "# val = df['PARTICULARS'].unique()\n",
    "# for i in val:\n",
    "#     if i[0:4]!='ECOM' and i[0] != 'U' and i[0:3]!='ATM' :\n",
    "#         if '/' in i:\n",
    "#             s = i\n",
    "#             print(s)\n",
    "# val = df['PARTICULARS'].unique()\n",
    "# for i in val:\n",
    "#     if i[0:4]!='ECOM' and i[0] != 'U' and i[0:3]!='ATM' :\n",
    "        \n",
    "#             s = i\n",
    "#             s = s[:s.rfind('/')]\n",
    "#             s = s[:s.rfind('/')]\n",
    "#             print(s)\n",
    "        "
   ]
  },
  {
   "cell_type": "code",
   "execution_count": 11,
   "metadata": {},
   "outputs": [],
   "source": [
    "df.insert(3,'PAYMENTS',True)\n",
    "df.insert(4,'PAYMENT_CAT',True)"
   ]
  },
  {
   "cell_type": "code",
   "execution_count": 12,
   "metadata": {},
   "outputs": [],
   "source": [
    "# for i in range(len(df['PARTICULARS'])):\n",
    "#     if df['PARTICULARS'][i][0] == 'U':\n",
    "#         s = df['PARTICULARS'][i][21:]\n",
    "#         c = df['PARTICULARS'][i][4:]\n",
    "#         s =  s[0:s.rfind('/')]\n",
    "#         c =  c[0:c.rfind('/')]\n",
    "#         c =  c[0:c.rfind('/')]\n",
    "#         c =  c[0:c.rfind('/')]\n",
    "#         df['PAYMENT_CAT'][i] = c[0:c.rfind('/')]\n",
    "#         print(df['PAYMENT_CAT'][i])"
   ]
  },
  {
   "cell_type": "code",
   "execution_count": 13,
   "metadata": {},
   "outputs": [
    {
     "name": "stderr",
     "output_type": "stream",
     "text": [
      "<ipython-input-13-9b957e4a74f8>:6: SettingWithCopyWarning: \n",
      "A value is trying to be set on a copy of a slice from a DataFrame\n",
      "\n",
      "See the caveats in the documentation: https://pandas.pydata.org/pandas-docs/stable/user_guide/indexing.html#returning-a-view-versus-a-copy\n",
      "  df['PAYMENTS'][i] =  s[0:s.rfind('/')]\n",
      "<ipython-input-13-9b957e4a74f8>:14: SettingWithCopyWarning: \n",
      "A value is trying to be set on a copy of a slice from a DataFrame\n",
      "\n",
      "See the caveats in the documentation: https://pandas.pydata.org/pandas-docs/stable/user_guide/indexing.html#returning-a-view-versus-a-copy\n",
      "  df['PAYMENT_CAT'][i] = 'Merchant/business'\n"
     ]
    }
   ],
   "source": [
    "\n",
    "for i in range(len(df['PARTICULARS'])):\n",
    "    if df['PARTICULARS'][i][0] == 'U':\n",
    "        s = df['PARTICULARS'][i][21:]\n",
    "        c = df['PARTICULARS'][i][4:]\n",
    "        s =  s[0:s.rfind('/')]\n",
    "        df['PAYMENTS'][i] =  s[0:s.rfind('/')]  \n",
    "        c =  c[0:c.rfind('/')]\n",
    "        c =  c[0:c.rfind('/')]\n",
    "        c =  c[0:c.rfind('/')]\n",
    "        # df['PAYMENT_CAT'][i] = c[0:c.rfind('/')]\n",
    "        if c[0:c.rfind('/')] == 'P2A':\n",
    "            df['PAYMENT_CAT'][i] = 'Friend/Person'\n",
    "        else:\n",
    "            df['PAYMENT_CAT'][i] = 'Merchant/business'\n",
    "            \n",
    "    elif df['PARTICULARS'][i][0:4]=='ECOM':\n",
    "        s = df['PARTICULARS'][i][9:]\n",
    "        s =  s[0:s.rfind('/')]\n",
    "        s =  s[0:s.rfind('/')]     \n",
    "        df['PAYMENTS'][i] =  s[0:s.rfind('/')]\n",
    "    elif df['PARTICULARS'][i][0:3]=='ATM':\n",
    "        df['PAYMENTS'][i] = 'ATM transc'\n",
    "    else:\n",
    "        df['PAYMENTS'][i] = 'others'\n",
    "    \n",
    "        \n"
   ]
  },
  {
   "cell_type": "code",
   "execution_count": 14,
   "metadata": {},
   "outputs": [],
   "source": [
    "items = {\"Food\": ['ZOMATO','Zomato','Swiggy','SWIGGY','Zomato Lt','KABAB MEH','Kalkata K','EatClub'],\n",
    "         \"Clg canteen\":['BHAGYA M','Bhagya'],\n",
    "         'Restraunt': ['CHEF BAKE','Kabab Cou','C2  Kitch','WOW MOMO ','Empire Re','Plan B - ','Dominos P','TIPSY BUL''Roll magi','DOMINOS P','Cookie Ma','Theobroma','S L V SWE','mad over','Pizza Hut','BOBA TREE','THEOBROMA','McDonalds','TAAZA MIT'],\n",
    "         'Bills/Phone/internet':['JioFiber','Jio Mobil','JIO Mumbai','JIOPAY'],\n",
    "         'Subscription':['SonyLIV','Sony Pict','NETFLIX C',],\n",
    "         'Amazon':['AMAZON','Amazon.in-Gro','Amazon Pa','Amazon Seller'],\n",
    "         'Cab/Auto':['OLACABS','OLA Postp','OlaFinanc','olamoney1','WWW OLACABS C','UBER INDI','UBER INDIA SY',],\n",
    "         'Petrol':['JRB FUEL ','BP Petrol',' JRB FUEL','Indian Oi', 'R R PETRO'],\n",
    "         'Groceries/General':['Anu Provi','Grofers I','GROFERS I','SWIGGY INSTAM','MEGA XPRE'],\n",
    "         'Travel/Vacation/Fun': ['IRCTC', 'IRCTC Web','MAKEMYTRIP IN', 'airbnb','MAKEMYTRIP (I'],\n",
    "         'clgParking' : ['G UMAPATH']}"
   ]
  },
  {
   "cell_type": "code",
   "execution_count": 15,
   "metadata": {},
   "outputs": [],
   "source": [
    "df.insert(5,'Category',True)"
   ]
  },
  {
   "cell_type": "code",
   "execution_count": 16,
   "metadata": {},
   "outputs": [
    {
     "name": "stderr",
     "output_type": "stream",
     "text": [
      "<ipython-input-16-3b0e17d093d4>:27: SettingWithCopyWarning: \n",
      "A value is trying to be set on a copy of a slice from a DataFrame\n",
      "\n",
      "See the caveats in the documentation: https://pandas.pydata.org/pandas-docs/stable/user_guide/indexing.html#returning-a-view-versus-a-copy\n",
      "  df['Category'][i] = 'Others'\n"
     ]
    }
   ],
   "source": [
    "for i in range(len(df['PAYMENTS'])):\n",
    "    if df['PAYMENTS'][i] in items.get('Food'):\n",
    "        df['Category'][i] = 'Food'\n",
    "    elif df['PAYMENTS'][i] in items.get(\"Clg canteen\"):\n",
    "        df['Category'][i] = \"Clg canteen\"\n",
    "    elif df['PAYMENTS'][i] in items.get('Restraunt'):\n",
    "        df['Category'][i] = 'Restraunt'\n",
    "    elif df['PAYMENTS'][i] in items.get('Bills/Phone/internet'):\n",
    "        df['Category'][i] = 'Bills/Phone/internet'\n",
    "    elif df['PAYMENTS'][i] in items.get('Subscription'):\n",
    "        df['Category'][i] = 'Subscription'\n",
    "    elif df['PAYMENTS'][i] in items.get('Amazon'):\n",
    "        df['Category'][i] = 'Amazon'\n",
    "    elif df['PAYMENTS'][i] in items.get('Cab/Auto'):\n",
    "        df['Category'][i] = 'Cab/Auto'\n",
    "    elif df['PAYMENTS'][i] in items.get('Food'):\n",
    "        df['Category'][i] = 'Food'\n",
    "    elif df['PAYMENTS'][i] in items.get('Petrol'):\n",
    "        df['Category'][i] = 'Petrol'\n",
    "    elif df['PAYMENTS'][i] in items.get('Groceries/General'):\n",
    "        df['Category'][i] = 'Groceries/General'\n",
    "    elif df['PAYMENTS'][i] in items.get('Travel/Vacation/Fun'):\n",
    "        df['Category'][i] = 'Travel/Vacation/Fun'\n",
    "    elif df['PAYMENTS'][i] in items.get('clgParking'):\n",
    "        df['Category'][i] = 'clgParking'\n",
    "    else:\n",
    "        df['Category'][i] = 'Others'\n",
    "    "
   ]
  },
  {
   "attachments": {},
   "cell_type": "markdown",
   "metadata": {},
   "source": [
    "# connection to sql "
   ]
  },
  {
   "cell_type": "code",
   "execution_count": 17,
   "metadata": {},
   "outputs": [],
   "source": [
    "import mysql.connector \n"
   ]
  },
  {
   "cell_type": "code",
   "execution_count": 18,
   "metadata": {},
   "outputs": [],
   "source": [
    "mydb = mysql.connector.connect(\n",
    "  host=\"localhost\",\n",
    "  user=\"root\",\n",
    "  password=\"\",\n",
    "  database=\"financemng\"\n",
    ")\n",
    "mycursor =mydb.cursor()"
   ]
  },
  {
   "cell_type": "code",
   "execution_count": 19,
   "metadata": {},
   "outputs": [
    {
     "name": "stderr",
     "output_type": "stream",
     "text": [
      "<ipython-input-19-990d7bfb06c7>:2: SettingWithCopyWarning: \n",
      "A value is trying to be set on a copy of a slice from a DataFrame\n",
      "\n",
      "See the caveats in the documentation: https://pandas.pydata.org/pandas-docs/stable/user_guide/indexing.html#returning-a-view-versus-a-copy\n",
      "  df['Tran Date'][i]  = datetime.strptime(df['Tran Date'][i], '%d-%m-%Y').date()\n"
     ]
    }
   ],
   "source": [
    "for i in range(len(df['Tran Date'])):\n",
    "    df['Tran Date'][i]  = datetime.strptime(df['Tran Date'][i], '%d-%m-%Y').date()"
   ]
  },
  {
   "attachments": {},
   "cell_type": "markdown",
   "metadata": {},
   "source": [
    "## creating table "
   ]
  },
  {
   "cell_type": "code",
   "execution_count": 20,
   "metadata": {},
   "outputs": [],
   "source": [
    "# mycursor.execute(\"CREATE TABLE Payment_Table(TranDate DATE,PARTICULARS VARCHAR(100),PAYMENTS VARCHAR(20),Category VARCHAR(20),DR FLOAT(10,2),CR FLOAT(10,2),BAL FLOAT(10,2),Month VARCHAR(10),tranID int PRIMARY KEY AUTO_INCREMENT)\")"
   ]
  },
  {
   "attachments": {},
   "cell_type": "markdown",
   "metadata": {},
   "source": [
    "## inserting into table "
   ]
  },
  {
   "cell_type": "code",
   "execution_count": 21,
   "metadata": {},
   "outputs": [],
   "source": [
    "# for i in range(len(df['Tran Date'])):\n",
    "#     sql = f\"INSERT INTO payment_table(TranDate,PARTICULARS,PAYMENTS,Category,DR,CR,BAL,Month) VALUES(%s,%s,%s,%s,%s,%s,%s,%s)\"\n",
    "#     val = [df['Tran Date'][i],df['PARTICULARS'][i],df['PAYMENTS'][i],df['Category'][i],df['DR'][i],df['CR'][i],df['BAL'][i],df['Month'][i]]\n",
    "#     mycursor.execute(sql,val)\n",
    "#     mydb.commit()"
   ]
  },
  {
   "cell_type": "code",
   "execution_count": null,
   "metadata": {},
   "outputs": [],
   "source": []
  }
 ],
 "metadata": {
  "kernelspec": {
   "display_name": "base",
   "language": "python",
   "name": "python3"
  },
  "language_info": {
   "codemirror_mode": {
    "name": "ipython",
    "version": 3
   },
   "file_extension": ".py",
   "mimetype": "text/x-python",
   "name": "python",
   "nbconvert_exporter": "python",
   "pygments_lexer": "ipython3",
   "version": "3.8.3"
  },
  "orig_nbformat": 4,
  "vscode": {
   "interpreter": {
    "hash": "fbe1b5b6da6e247afa4dd5813f313552d391753a287fd62a8e8b908427a36ee8"
   }
  }
 },
 "nbformat": 4,
 "nbformat_minor": 2
}
